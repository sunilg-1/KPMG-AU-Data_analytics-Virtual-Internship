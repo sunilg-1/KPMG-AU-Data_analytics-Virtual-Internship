{
 "cells": [
  {
   "cell_type": "markdown",
   "id": "c63d8ba8",
   "metadata": {},
   "source": [
    "Let's import and clean the third sheet which is `CustomerDemographic`."
   ]
  },
  {
   "cell_type": "code",
   "execution_count": 1,
   "id": "47f8f09c",
   "metadata": {},
   "outputs": [],
   "source": [
    "import numpy as np\n",
    "import pandas as pd\n",
    "import warnings\n",
    "warnings.filterwarnings('ignore')"
   ]
  },
  {
   "cell_type": "code",
   "execution_count": 8,
   "id": "9f3eaff1",
   "metadata": {},
   "outputs": [],
   "source": [
    "df3 = pd.read_excel('KPMG_VI_New_raw_data_update_final.xlsx', sheet_name=3, header=1)"
   ]
  },
  {
   "cell_type": "code",
   "execution_count": 10,
   "id": "0945731c",
   "metadata": {},
   "outputs": [
    {
     "data": {
      "text/html": [
       "<div>\n",
       "<style scoped>\n",
       "    .dataframe tbody tr th:only-of-type {\n",
       "        vertical-align: middle;\n",
       "    }\n",
       "\n",
       "    .dataframe tbody tr th {\n",
       "        vertical-align: top;\n",
       "    }\n",
       "\n",
       "    .dataframe thead th {\n",
       "        text-align: right;\n",
       "    }\n",
       "</style>\n",
       "<table border=\"1\" class=\"dataframe\">\n",
       "  <thead>\n",
       "    <tr style=\"text-align: right;\">\n",
       "      <th></th>\n",
       "      <th>customer_id</th>\n",
       "      <th>first_name</th>\n",
       "      <th>last_name</th>\n",
       "      <th>gender</th>\n",
       "      <th>past_3_years_bike_related_purchases</th>\n",
       "      <th>DOB</th>\n",
       "      <th>job_title</th>\n",
       "      <th>job_industry_category</th>\n",
       "      <th>wealth_segment</th>\n",
       "      <th>deceased_indicator</th>\n",
       "      <th>default</th>\n",
       "      <th>owns_car</th>\n",
       "      <th>tenure</th>\n",
       "    </tr>\n",
       "  </thead>\n",
       "  <tbody>\n",
       "    <tr>\n",
       "      <th>0</th>\n",
       "      <td>1</td>\n",
       "      <td>Laraine</td>\n",
       "      <td>Medendorp</td>\n",
       "      <td>F</td>\n",
       "      <td>93</td>\n",
       "      <td>1953-10-12</td>\n",
       "      <td>Executive Secretary</td>\n",
       "      <td>Health</td>\n",
       "      <td>Mass Customer</td>\n",
       "      <td>N</td>\n",
       "      <td>\"'</td>\n",
       "      <td>Yes</td>\n",
       "      <td>11.0</td>\n",
       "    </tr>\n",
       "    <tr>\n",
       "      <th>1</th>\n",
       "      <td>2</td>\n",
       "      <td>Eli</td>\n",
       "      <td>Bockman</td>\n",
       "      <td>Male</td>\n",
       "      <td>81</td>\n",
       "      <td>1980-12-16</td>\n",
       "      <td>Administrative Officer</td>\n",
       "      <td>Financial Services</td>\n",
       "      <td>Mass Customer</td>\n",
       "      <td>N</td>\n",
       "      <td>&lt;script&gt;alert('hi')&lt;/script&gt;</td>\n",
       "      <td>Yes</td>\n",
       "      <td>16.0</td>\n",
       "    </tr>\n",
       "    <tr>\n",
       "      <th>2</th>\n",
       "      <td>3</td>\n",
       "      <td>Arlin</td>\n",
       "      <td>Dearle</td>\n",
       "      <td>Male</td>\n",
       "      <td>61</td>\n",
       "      <td>1954-01-20</td>\n",
       "      <td>Recruiting Manager</td>\n",
       "      <td>Property</td>\n",
       "      <td>Mass Customer</td>\n",
       "      <td>N</td>\n",
       "      <td>2018-02-01 00:00:00</td>\n",
       "      <td>Yes</td>\n",
       "      <td>15.0</td>\n",
       "    </tr>\n",
       "    <tr>\n",
       "      <th>3</th>\n",
       "      <td>4</td>\n",
       "      <td>Talbot</td>\n",
       "      <td>NaN</td>\n",
       "      <td>Male</td>\n",
       "      <td>33</td>\n",
       "      <td>1961-10-03</td>\n",
       "      <td>NaN</td>\n",
       "      <td>IT</td>\n",
       "      <td>Mass Customer</td>\n",
       "      <td>N</td>\n",
       "      <td>() { _; } &gt;_[$($())] { touch /tmp/blns.shellsh...</td>\n",
       "      <td>No</td>\n",
       "      <td>7.0</td>\n",
       "    </tr>\n",
       "    <tr>\n",
       "      <th>4</th>\n",
       "      <td>5</td>\n",
       "      <td>Sheila-kathryn</td>\n",
       "      <td>Calton</td>\n",
       "      <td>Female</td>\n",
       "      <td>56</td>\n",
       "      <td>1977-05-13</td>\n",
       "      <td>Senior Editor</td>\n",
       "      <td>NaN</td>\n",
       "      <td>Affluent Customer</td>\n",
       "      <td>N</td>\n",
       "      <td>NIL</td>\n",
       "      <td>Yes</td>\n",
       "      <td>8.0</td>\n",
       "    </tr>\n",
       "  </tbody>\n",
       "</table>\n",
       "</div>"
      ],
      "text/plain": [
       "   customer_id      first_name  last_name  gender  \\\n",
       "0            1         Laraine  Medendorp       F   \n",
       "1            2             Eli    Bockman    Male   \n",
       "2            3           Arlin     Dearle    Male   \n",
       "3            4          Talbot        NaN    Male   \n",
       "4            5  Sheila-kathryn     Calton  Female   \n",
       "\n",
       "   past_3_years_bike_related_purchases        DOB               job_title  \\\n",
       "0                                   93 1953-10-12     Executive Secretary   \n",
       "1                                   81 1980-12-16  Administrative Officer   \n",
       "2                                   61 1954-01-20      Recruiting Manager   \n",
       "3                                   33 1961-10-03                     NaN   \n",
       "4                                   56 1977-05-13           Senior Editor   \n",
       "\n",
       "  job_industry_category     wealth_segment deceased_indicator  \\\n",
       "0                Health      Mass Customer                  N   \n",
       "1    Financial Services      Mass Customer                  N   \n",
       "2              Property      Mass Customer                  N   \n",
       "3                    IT      Mass Customer                  N   \n",
       "4                   NaN  Affluent Customer                  N   \n",
       "\n",
       "                                             default owns_car  tenure  \n",
       "0                                                 \"'      Yes    11.0  \n",
       "1                       <script>alert('hi')</script>      Yes    16.0  \n",
       "2                                2018-02-01 00:00:00      Yes    15.0  \n",
       "3  () { _; } >_[$($())] { touch /tmp/blns.shellsh...       No     7.0  \n",
       "4                                                NIL      Yes     8.0  "
      ]
     },
     "execution_count": 10,
     "metadata": {},
     "output_type": "execute_result"
    }
   ],
   "source": [
    "df3.head()"
   ]
  },
  {
   "cell_type": "markdown",
   "id": "6a215abb",
   "metadata": {},
   "source": [
    "There's a column named `default` which has corrupted data points, let's drop that first. "
   ]
  },
  {
   "cell_type": "code",
   "execution_count": 11,
   "id": "267d357a",
   "metadata": {},
   "outputs": [],
   "source": [
    "del df3['default']"
   ]
  },
  {
   "cell_type": "code",
   "execution_count": 15,
   "id": "4359fb5e",
   "metadata": {},
   "outputs": [
    {
     "name": "stdout",
     "output_type": "stream",
     "text": [
      "<class 'pandas.core.frame.DataFrame'>\n",
      "RangeIndex: 4000 entries, 0 to 3999\n",
      "Data columns (total 12 columns):\n",
      " #   Column                               Non-Null Count  Dtype         \n",
      "---  ------                               --------------  -----         \n",
      " 0   customer_id                          4000 non-null   int64         \n",
      " 1   first_name                           4000 non-null   object        \n",
      " 2   last_name                            3875 non-null   object        \n",
      " 3   gender                               4000 non-null   object        \n",
      " 4   past_3_years_bike_related_purchases  4000 non-null   int64         \n",
      " 5   DOB                                  3913 non-null   datetime64[ns]\n",
      " 6   job_title                            3494 non-null   object        \n",
      " 7   job_industry_category                3344 non-null   object        \n",
      " 8   wealth_segment                       4000 non-null   object        \n",
      " 9   deceased_indicator                   4000 non-null   object        \n",
      " 10  owns_car                             4000 non-null   object        \n",
      " 11  tenure                               3913 non-null   float64       \n",
      "dtypes: datetime64[ns](1), float64(1), int64(2), object(8)\n",
      "memory usage: 375.1+ KB\n"
     ]
    }
   ],
   "source": [
    "df3.info()"
   ]
  },
  {
   "cell_type": "code",
   "execution_count": 88,
   "id": "d44770e3",
   "metadata": {},
   "outputs": [
    {
     "name": "stdout",
     "output_type": "stream",
     "text": [
      "customer_id\t --->True\n",
      "first_name\t --->False\n",
      "last_name\t --->False\n",
      "gender\t --->False\n",
      "past_3_years_bike_related_purchases\t --->False\n",
      "DOB\t --->False\n",
      "job_title\t --->False\n",
      "job_industry_category\t --->False\n",
      "wealth_segment\t --->False\n",
      "deceased_indicator\t --->False\n",
      "owns_car\t --->False\n",
      "tenure\t --->False\n"
     ]
    }
   ],
   "source": [
    "# check if all the columns are unique\n",
    "cols = df3.columns\n",
    "for col in cols:\n",
    "    print(f'{col}\\t --->{df3[col].is_unique}')\n",
    "    "
   ]
  },
  {
   "cell_type": "markdown",
   "id": "d493b83c",
   "metadata": {},
   "source": [
    "Now let's look at the missing data rules that i mentioned in **TASK 1.1**."
   ]
  },
  {
   "cell_type": "markdown",
   "id": "7d488046",
   "metadata": {},
   "source": [
    "1. ***Remove the rows with missing values:***\n",
    "One option is to remove the rows that contain missing values. However, this should be done with caution, as removing too many rows can significantly reduce the amount of data available for analysis. If the missing values are only a small percentage of the total dataset, it may be acceptable to remove them.\n",
    "\n",
    "2. ***Impute missing values:*** Another option is to impute the missing values with estimated or predicted values. There are several methods for imputing missing values, such as mean or median imputation, mode imputation, and regression imputation. Mean or median imputation can be used for numeric columns like DOB, while mode imputation can be used for categorical columns like job_titles.\n",
    "\n",
    "3. ***Create a separate category for missing values:*** Depending on the type of missing data, you may also choose to create a separate category for the missing values. This is typically done for categorical variables, where the missing value is coded as a separate category, such as \"unknown\" or \"not applicable\"\n"
   ]
  },
  {
   "cell_type": "code",
   "execution_count": 96,
   "id": "b67b1eac",
   "metadata": {},
   "outputs": [
    {
     "data": {
      "text/plain": [
       "customer_id                             0.000\n",
       "first_name                              0.000\n",
       "last_name                               3.125\n",
       "gender                                  0.000\n",
       "past_3_years_bike_related_purchases     0.000\n",
       "DOB                                     0.000\n",
       "job_title                              12.650\n",
       "job_industry_category                  16.400\n",
       "wealth_segment                          0.000\n",
       "deceased_indicator                      0.000\n",
       "owns_car                                0.000\n",
       "tenure                                  2.175\n",
       "dtype: float64"
      ]
     },
     "execution_count": 96,
     "metadata": {},
     "output_type": "execute_result"
    }
   ],
   "source": [
    "# missing values in %\n",
    "df3.isnull().mean()*100"
   ]
  },
  {
   "cell_type": "markdown",
   "id": "d03d68f7",
   "metadata": {},
   "source": [
    "ok, **`job_title` and `job_industry_category`** has the major missing data points. Here we can drop column with the most missing values by using the **`thresh=` in `dropna`** method and by default it is set to rows. \n",
    "\n",
    "I'm only going to keep those columns that have minimum of **70% non-NaN** values."
   ]
  },
  {
   "cell_type": "code",
   "execution_count": 35,
   "id": "01b2dfb3",
   "metadata": {},
   "outputs": [],
   "source": [
    "df3 = df3.dropna(axis=1, how='all', thresh=(len(df3)*0.7)).copy()"
   ]
  },
  {
   "cell_type": "code",
   "execution_count": 66,
   "id": "e7a96c09",
   "metadata": {},
   "outputs": [],
   "source": [
    "# Let's start imputing missing data. for most of the cases mode() is a better option for filling missing data.\n",
    "mode_DOB = df3['DOB'].mode()[0]\n",
    "df3['DOB'].fillna(mode_DOB, inplace=True)"
   ]
  },
  {
   "cell_type": "code",
   "execution_count": 67,
   "id": "2427b9c6",
   "metadata": {},
   "outputs": [
    {
     "data": {
      "text/plain": [
       "0"
      ]
     },
     "execution_count": 67,
     "metadata": {},
     "output_type": "execute_result"
    }
   ],
   "source": [
    "df3['DOB'].isnull().sum()"
   ]
  },
  {
   "cell_type": "markdown",
   "id": "c792c00a",
   "metadata": {},
   "source": [
    "**job_title & job_industry_category** both are missing about **12.65% & 16.4%** of data respectively, using **ffill or bfill** to fill in missing values can be a useful approach in some cases, it is generally not recommended as the default method. Instead, it is best to use a method that is appropriate for the specific dataset and analysis.\n",
    "\n",
    "here i'm going to fill in the missing values with the mode of the non-missing values in the column. This approach assumes that the mode is a reasonable estimate for the missing values and may be appropriate if the missing values are distributed similarly to the non-missing values."
   ]
  },
  {
   "cell_type": "code",
   "execution_count": 101,
   "id": "f305fb02",
   "metadata": {},
   "outputs": [],
   "source": [
    "# fillna for job_title\n",
    "mode_job_title = df3['job_title'].mode()[0]\n",
    "df3['job_title'].fillna(mode_job_title, inplace=True)"
   ]
  },
  {
   "cell_type": "code",
   "execution_count": 104,
   "id": "d1f1f978",
   "metadata": {},
   "outputs": [
    {
     "data": {
      "text/plain": [
       "0"
      ]
     },
     "execution_count": 104,
     "metadata": {},
     "output_type": "execute_result"
    }
   ],
   "source": [
    "df3['job_title'].isnull().sum()"
   ]
  },
  {
   "cell_type": "code",
   "execution_count": 108,
   "id": "86bc701f",
   "metadata": {},
   "outputs": [],
   "source": [
    "# fillna for job_industry_category\n",
    "mode_job_indus = df3['job_industry_category'].mode()[0]\n",
    "df3['job_industry_category'].fillna(mode_job_indus, inplace=True)"
   ]
  },
  {
   "cell_type": "code",
   "execution_count": 109,
   "id": "d2776e02",
   "metadata": {},
   "outputs": [
    {
     "data": {
      "text/plain": [
       "0"
      ]
     },
     "execution_count": 109,
     "metadata": {},
     "output_type": "execute_result"
    }
   ],
   "source": [
    "df3['job_industry_category'].isnull().sum()"
   ]
  },
  {
   "cell_type": "code",
   "execution_count": 121,
   "id": "1465eab5",
   "metadata": {},
   "outputs": [],
   "source": [
    "# for tenure we're going to fill missing with a mean or median\n",
    "mean_tenure = round(df3['tenure'].mean())\n",
    "df3['tenure'].fillna(mean_tenure, inplace=True)"
   ]
  },
  {
   "cell_type": "code",
   "execution_count": 122,
   "id": "e55b2f49",
   "metadata": {},
   "outputs": [
    {
     "data": {
      "text/plain": [
       "0"
      ]
     },
     "execution_count": 122,
     "metadata": {},
     "output_type": "execute_result"
    }
   ],
   "source": [
    "df3['tenure'].isnull().sum()"
   ]
  },
  {
   "cell_type": "code",
   "execution_count": 125,
   "id": "0ac92484",
   "metadata": {},
   "outputs": [
    {
     "data": {
      "text/plain": [
       "Female    2037\n",
       "Male      1872\n",
       "U           88\n",
       "F            1\n",
       "Femal        1\n",
       "M            1\n",
       "Name: gender, dtype: int64"
      ]
     },
     "execution_count": 125,
     "metadata": {},
     "output_type": "execute_result"
    }
   ],
   "source": [
    "# Let's format the data \n",
    "df3['gender'].value_counts()"
   ]
  },
  {
   "cell_type": "code",
   "execution_count": 135,
   "id": "b7256591",
   "metadata": {},
   "outputs": [],
   "source": [
    "name_format = {'U': 'Unidentified', 'Femal': 'Female', 'M': 'Male', 'F': 'Female'}\n",
    "df3['gender'] = df3['gender'].replace(name_format)"
   ]
  },
  {
   "cell_type": "markdown",
   "id": "da14ec39",
   "metadata": {},
   "source": [
    "Let's set standard **Boolean values** for columns **deceased_indicator, owns_car**"
   ]
  },
  {
   "cell_type": "code",
   "execution_count": 138,
   "id": "d0b200b0",
   "metadata": {},
   "outputs": [],
   "source": [
    "# deceased_indicator\n",
    "df3['deceased_indicator'].replace({'N': False, 'Y': True}, inplace=True)"
   ]
  },
  {
   "cell_type": "code",
   "execution_count": 139,
   "id": "bdb72a15",
   "metadata": {},
   "outputs": [],
   "source": [
    "# owns_car\n",
    "df3['owns_car'].replace({'Yes': True, 'No': False}, inplace=True)"
   ]
  },
  {
   "cell_type": "code",
   "execution_count": 141,
   "id": "5c5bb37c",
   "metadata": {},
   "outputs": [
    {
     "data": {
      "text/html": [
       "<div>\n",
       "<style scoped>\n",
       "    .dataframe tbody tr th:only-of-type {\n",
       "        vertical-align: middle;\n",
       "    }\n",
       "\n",
       "    .dataframe tbody tr th {\n",
       "        vertical-align: top;\n",
       "    }\n",
       "\n",
       "    .dataframe thead th {\n",
       "        text-align: right;\n",
       "    }\n",
       "</style>\n",
       "<table border=\"1\" class=\"dataframe\">\n",
       "  <thead>\n",
       "    <tr style=\"text-align: right;\">\n",
       "      <th></th>\n",
       "      <th>customer_id</th>\n",
       "      <th>first_name</th>\n",
       "      <th>last_name</th>\n",
       "      <th>gender</th>\n",
       "      <th>past_3_years_bike_related_purchases</th>\n",
       "      <th>DOB</th>\n",
       "      <th>job_title</th>\n",
       "      <th>job_industry_category</th>\n",
       "      <th>wealth_segment</th>\n",
       "      <th>deceased_indicator</th>\n",
       "      <th>owns_car</th>\n",
       "      <th>tenure</th>\n",
       "    </tr>\n",
       "  </thead>\n",
       "  <tbody>\n",
       "    <tr>\n",
       "      <th>0</th>\n",
       "      <td>1</td>\n",
       "      <td>Laraine</td>\n",
       "      <td>Medendorp</td>\n",
       "      <td>Female</td>\n",
       "      <td>93</td>\n",
       "      <td>1953-10-12</td>\n",
       "      <td>Executive Secretary</td>\n",
       "      <td>Health</td>\n",
       "      <td>Mass Customer</td>\n",
       "      <td>False</td>\n",
       "      <td>True</td>\n",
       "      <td>11.0</td>\n",
       "    </tr>\n",
       "    <tr>\n",
       "      <th>1</th>\n",
       "      <td>2</td>\n",
       "      <td>Eli</td>\n",
       "      <td>Bockman</td>\n",
       "      <td>Male</td>\n",
       "      <td>81</td>\n",
       "      <td>1980-12-16</td>\n",
       "      <td>Administrative Officer</td>\n",
       "      <td>Financial Services</td>\n",
       "      <td>Mass Customer</td>\n",
       "      <td>False</td>\n",
       "      <td>True</td>\n",
       "      <td>16.0</td>\n",
       "    </tr>\n",
       "    <tr>\n",
       "      <th>2</th>\n",
       "      <td>3</td>\n",
       "      <td>Arlin</td>\n",
       "      <td>Dearle</td>\n",
       "      <td>Male</td>\n",
       "      <td>61</td>\n",
       "      <td>1954-01-20</td>\n",
       "      <td>Recruiting Manager</td>\n",
       "      <td>Property</td>\n",
       "      <td>Mass Customer</td>\n",
       "      <td>False</td>\n",
       "      <td>True</td>\n",
       "      <td>15.0</td>\n",
       "    </tr>\n",
       "    <tr>\n",
       "      <th>3</th>\n",
       "      <td>4</td>\n",
       "      <td>Talbot</td>\n",
       "      <td>NaN</td>\n",
       "      <td>Male</td>\n",
       "      <td>33</td>\n",
       "      <td>1961-10-03</td>\n",
       "      <td>Business Systems Development Analyst</td>\n",
       "      <td>IT</td>\n",
       "      <td>Mass Customer</td>\n",
       "      <td>False</td>\n",
       "      <td>False</td>\n",
       "      <td>7.0</td>\n",
       "    </tr>\n",
       "    <tr>\n",
       "      <th>4</th>\n",
       "      <td>5</td>\n",
       "      <td>Sheila-kathryn</td>\n",
       "      <td>Calton</td>\n",
       "      <td>Female</td>\n",
       "      <td>56</td>\n",
       "      <td>1977-05-13</td>\n",
       "      <td>Senior Editor</td>\n",
       "      <td>Manufacturing</td>\n",
       "      <td>Affluent Customer</td>\n",
       "      <td>False</td>\n",
       "      <td>True</td>\n",
       "      <td>8.0</td>\n",
       "    </tr>\n",
       "    <tr>\n",
       "      <th>...</th>\n",
       "      <td>...</td>\n",
       "      <td>...</td>\n",
       "      <td>...</td>\n",
       "      <td>...</td>\n",
       "      <td>...</td>\n",
       "      <td>...</td>\n",
       "      <td>...</td>\n",
       "      <td>...</td>\n",
       "      <td>...</td>\n",
       "      <td>...</td>\n",
       "      <td>...</td>\n",
       "      <td>...</td>\n",
       "    </tr>\n",
       "    <tr>\n",
       "      <th>3995</th>\n",
       "      <td>3996</td>\n",
       "      <td>Rosalia</td>\n",
       "      <td>Halgarth</td>\n",
       "      <td>Female</td>\n",
       "      <td>8</td>\n",
       "      <td>1975-08-09</td>\n",
       "      <td>VP Product Management</td>\n",
       "      <td>Health</td>\n",
       "      <td>Mass Customer</td>\n",
       "      <td>False</td>\n",
       "      <td>False</td>\n",
       "      <td>19.0</td>\n",
       "    </tr>\n",
       "    <tr>\n",
       "      <th>3996</th>\n",
       "      <td>3997</td>\n",
       "      <td>Blanch</td>\n",
       "      <td>Nisuis</td>\n",
       "      <td>Female</td>\n",
       "      <td>87</td>\n",
       "      <td>2001-07-13</td>\n",
       "      <td>Statistician II</td>\n",
       "      <td>Manufacturing</td>\n",
       "      <td>High Net Worth</td>\n",
       "      <td>False</td>\n",
       "      <td>True</td>\n",
       "      <td>1.0</td>\n",
       "    </tr>\n",
       "    <tr>\n",
       "      <th>3997</th>\n",
       "      <td>3998</td>\n",
       "      <td>Sarene</td>\n",
       "      <td>Woolley</td>\n",
       "      <td>Unidentified</td>\n",
       "      <td>60</td>\n",
       "      <td>1978-01-30</td>\n",
       "      <td>Assistant Manager</td>\n",
       "      <td>IT</td>\n",
       "      <td>High Net Worth</td>\n",
       "      <td>False</td>\n",
       "      <td>False</td>\n",
       "      <td>11.0</td>\n",
       "    </tr>\n",
       "    <tr>\n",
       "      <th>3998</th>\n",
       "      <td>3999</td>\n",
       "      <td>Patrizius</td>\n",
       "      <td>NaN</td>\n",
       "      <td>Male</td>\n",
       "      <td>11</td>\n",
       "      <td>1973-10-24</td>\n",
       "      <td>Business Systems Development Analyst</td>\n",
       "      <td>Manufacturing</td>\n",
       "      <td>Affluent Customer</td>\n",
       "      <td>False</td>\n",
       "      <td>True</td>\n",
       "      <td>10.0</td>\n",
       "    </tr>\n",
       "    <tr>\n",
       "      <th>3999</th>\n",
       "      <td>4000</td>\n",
       "      <td>Kippy</td>\n",
       "      <td>Oldland</td>\n",
       "      <td>Male</td>\n",
       "      <td>76</td>\n",
       "      <td>1991-11-05</td>\n",
       "      <td>Software Engineer IV</td>\n",
       "      <td>Manufacturing</td>\n",
       "      <td>Affluent Customer</td>\n",
       "      <td>False</td>\n",
       "      <td>False</td>\n",
       "      <td>11.0</td>\n",
       "    </tr>\n",
       "  </tbody>\n",
       "</table>\n",
       "<p>4000 rows × 12 columns</p>\n",
       "</div>"
      ],
      "text/plain": [
       "      customer_id      first_name  last_name        gender  \\\n",
       "0               1         Laraine  Medendorp        Female   \n",
       "1               2             Eli    Bockman          Male   \n",
       "2               3           Arlin     Dearle          Male   \n",
       "3               4          Talbot        NaN          Male   \n",
       "4               5  Sheila-kathryn     Calton        Female   \n",
       "...           ...             ...        ...           ...   \n",
       "3995         3996         Rosalia   Halgarth        Female   \n",
       "3996         3997          Blanch     Nisuis        Female   \n",
       "3997         3998          Sarene    Woolley  Unidentified   \n",
       "3998         3999       Patrizius        NaN          Male   \n",
       "3999         4000           Kippy    Oldland          Male   \n",
       "\n",
       "      past_3_years_bike_related_purchases        DOB  \\\n",
       "0                                      93 1953-10-12   \n",
       "1                                      81 1980-12-16   \n",
       "2                                      61 1954-01-20   \n",
       "3                                      33 1961-10-03   \n",
       "4                                      56 1977-05-13   \n",
       "...                                   ...        ...   \n",
       "3995                                    8 1975-08-09   \n",
       "3996                                   87 2001-07-13   \n",
       "3997                                   60 1978-01-30   \n",
       "3998                                   11 1973-10-24   \n",
       "3999                                   76 1991-11-05   \n",
       "\n",
       "                                 job_title job_industry_category  \\\n",
       "0                      Executive Secretary                Health   \n",
       "1                   Administrative Officer    Financial Services   \n",
       "2                       Recruiting Manager              Property   \n",
       "3     Business Systems Development Analyst                    IT   \n",
       "4                            Senior Editor         Manufacturing   \n",
       "...                                    ...                   ...   \n",
       "3995                 VP Product Management                Health   \n",
       "3996                       Statistician II         Manufacturing   \n",
       "3997                     Assistant Manager                    IT   \n",
       "3998  Business Systems Development Analyst         Manufacturing   \n",
       "3999                  Software Engineer IV         Manufacturing   \n",
       "\n",
       "         wealth_segment  deceased_indicator  owns_car  tenure  \n",
       "0         Mass Customer               False      True    11.0  \n",
       "1         Mass Customer               False      True    16.0  \n",
       "2         Mass Customer               False      True    15.0  \n",
       "3         Mass Customer               False     False     7.0  \n",
       "4     Affluent Customer               False      True     8.0  \n",
       "...                 ...                 ...       ...     ...  \n",
       "3995      Mass Customer               False     False    19.0  \n",
       "3996     High Net Worth               False      True     1.0  \n",
       "3997     High Net Worth               False     False    11.0  \n",
       "3998  Affluent Customer               False      True    10.0  \n",
       "3999  Affluent Customer               False     False    11.0  \n",
       "\n",
       "[4000 rows x 12 columns]"
      ]
     },
     "execution_count": 141,
     "metadata": {},
     "output_type": "execute_result"
    }
   ],
   "source": [
    "df3"
   ]
  },
  {
   "cell_type": "code",
   "execution_count": 143,
   "id": "67c74354",
   "metadata": {},
   "outputs": [],
   "source": [
    "df3.to_csv('TASK 1-CustomerDemographic.csv', index=False)"
   ]
  },
  {
   "cell_type": "code",
   "execution_count": null,
   "id": "d3216d93",
   "metadata": {},
   "outputs": [],
   "source": []
  }
 ],
 "metadata": {
  "kernelspec": {
   "display_name": "Python 3 (ipykernel)",
   "language": "python",
   "name": "python3"
  },
  "language_info": {
   "codemirror_mode": {
    "name": "ipython",
    "version": 3
   },
   "file_extension": ".py",
   "mimetype": "text/x-python",
   "name": "python",
   "nbconvert_exporter": "python",
   "pygments_lexer": "ipython3",
   "version": "3.10.9"
  }
 },
 "nbformat": 4,
 "nbformat_minor": 5
}
